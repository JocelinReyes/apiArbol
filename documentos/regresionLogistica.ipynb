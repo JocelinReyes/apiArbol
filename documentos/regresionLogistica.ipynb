{
 "cells": [
  {
   "cell_type": "markdown",
   "id": "bcbbf25d",
   "metadata": {},
   "source": [
    "# Importar bibliotecas necesarias"
   ]
  },
  {
   "cell_type": "code",
   "execution_count": 12,
   "id": "b90a4461",
   "metadata": {},
   "outputs": [],
   "source": [
    "import pandas as pd\n",
    "import numpy as np\n",
    "from sklearn.model_selection import train_test_split\n",
    "from sklearn.linear_model import LogisticRegression\n",
    "from sklearn.metrics import classification_report, accuracy_score, confusion_matrix\n",
    "import seaborn as sns\n",
    "import matplotlib.pyplot as plt"
   ]
  },
  {
   "cell_type": "markdown",
   "id": "cfd84804",
   "metadata": {},
   "source": [
    "#### Cargar el dataset"
   ]
  },
  {
   "cell_type": "code",
   "execution_count": 2,
   "id": "36f87b98",
   "metadata": {},
   "outputs": [],
   "source": [
    "file_path = \"dataset_aleatorio.csv\"\n",
    "data = pd.read_csv(file_path)"
   ]
  },
  {
   "cell_type": "code",
   "execution_count": 13,
   "id": "e9d8858c",
   "metadata": {},
   "outputs": [
    {
     "name": "stdout",
     "output_type": "stream",
     "text": [
      "Primeras 5 filas del dataset:\n",
      "   columna_1  columna_2  columna_3  columna_4  columna_5  columna_6  \\\n",
      "0        801        929        896        291        572        394   \n",
      "1        722        755        845        765        152        863   \n",
      "2        292        239        738        399        115        995   \n",
      "3        840        272        179        192        348        633   \n",
      "4        913        110        299        677         86          9   \n",
      "\n",
      "   columna_7  columna_8  columna_9  columna_10  ...  columna_92  columna_93  \\\n",
      "0        742        549        782         429  ...         169         945   \n",
      "1        982        269        731         386  ...         285         902   \n",
      "2         89        232        403         716  ...         569         700   \n",
      "3        287        706        285          29  ...         470          85   \n",
      "4        725        588         87         118  ...         603         715   \n",
      "\n",
      "   columna_94  columna_95  columna_96  columna_97  columna_98  columna_99  \\\n",
      "0         522         596         306          79         961         843   \n",
      "1         197         949         431         766         776         807   \n",
      "2         785         988         390         748          96         156   \n",
      "3         613         309          63         230         621         803   \n",
      "4         308         290         794         891         288         472   \n",
      "\n",
      "   columna_100  target  \n",
      "0          111       1  \n",
      "1          923       1  \n",
      "2          145       0  \n",
      "3          985       0  \n",
      "4          587       0  \n",
      "\n",
      "[5 rows x 101 columns]\n"
     ]
    }
   ],
   "source": [
    "# Mostrar las primeras filas del dataset\n",
    "print(\"Primeras 5 filas del dataset:\")\n",
    "print(data.head())"
   ]
  },
  {
   "cell_type": "code",
   "execution_count": 14,
   "id": "23a4870f",
   "metadata": {},
   "outputs": [
    {
     "name": "stdout",
     "output_type": "stream",
     "text": [
      "\n",
      "Estadísticas descriptivas:\n",
      "         columna_1     columna_2    columna_3     columna_4     columna_5  \\\n",
      "count  50000.00000  50000.000000  50000.00000  50000.000000  50000.000000   \n",
      "mean     500.54646    498.519960    499.51738    498.635800    502.495620   \n",
      "std      289.31661    288.677998    289.64705    289.082843    289.156672   \n",
      "min        0.00000      0.000000      0.00000      0.000000      0.000000   \n",
      "25%      248.00000    249.000000    247.00000    248.000000    251.000000   \n",
      "50%      502.00000    496.000000    500.00000    497.000000    505.000000   \n",
      "75%      751.00000    747.000000    751.00000    748.000000    752.000000   \n",
      "max      999.00000    999.000000    999.00000    999.000000    999.000000   \n",
      "\n",
      "          columna_6    columna_7     columna_8     columna_9    columna_10  \\\n",
      "count  50000.000000  50000.00000  50000.000000  50000.000000  50000.000000   \n",
      "mean     500.380160    498.42528    500.616480    499.217920    502.455820   \n",
      "std      288.278034    288.40854    289.749582    287.815382    288.674865   \n",
      "min        0.000000      0.00000      0.000000      0.000000      0.000000   \n",
      "25%      251.000000    249.00000    249.000000    251.000000    254.000000   \n",
      "50%      501.000000    498.00000    503.000000    500.000000    502.000000   \n",
      "75%      751.000000    748.00000    753.000000    747.000000    752.250000   \n",
      "max      999.000000    999.00000    999.000000    999.000000    999.000000   \n",
      "\n",
      "       ...    columna_92   columna_93    columna_94    columna_95  \\\n",
      "count  ...  50000.000000  50000.00000  50000.000000  50000.000000   \n",
      "mean   ...    498.077340    499.85118    498.855420    501.823560   \n",
      "std    ...    288.164627    288.67183    288.877796    288.873768   \n",
      "min    ...      0.000000      0.00000      0.000000      0.000000   \n",
      "25%    ...    249.000000    250.00000    247.000000    253.000000   \n",
      "50%    ...    497.000000    499.00000    499.000000    504.000000   \n",
      "75%    ...    748.000000    751.00000    750.000000    751.000000   \n",
      "max    ...    999.000000    999.00000    999.000000    999.000000   \n",
      "\n",
      "         columna_96    columna_97    columna_98    columna_99   columna_100  \\\n",
      "count  50000.000000  50000.000000  50000.000000  50000.000000  50000.000000   \n",
      "mean     498.623380    497.825740    502.020680    500.407100    501.724140   \n",
      "std      289.365094    288.049643    290.037753    288.551391    288.795389   \n",
      "min        0.000000      0.000000      0.000000      0.000000      0.000000   \n",
      "25%      246.000000    248.000000    250.000000    250.000000    252.000000   \n",
      "50%      498.000000    498.000000    504.000000    502.000000    503.000000   \n",
      "75%      748.000000    747.000000    753.000000    751.000000    751.000000   \n",
      "max      999.000000    999.000000    999.000000    999.000000    999.000000   \n",
      "\n",
      "             target  \n",
      "count  50000.000000  \n",
      "mean       0.502720  \n",
      "std        0.499998  \n",
      "min        0.000000  \n",
      "25%        0.000000  \n",
      "50%        1.000000  \n",
      "75%        1.000000  \n",
      "max        1.000000  \n",
      "\n",
      "[8 rows x 101 columns]\n"
     ]
    }
   ],
   "source": [
    "# Mostrar estadísticas descriptivas del dataset\n",
    "print(\"\\nEstadísticas descriptivas:\")\n",
    "print(data.describe())"
   ]
  },
  {
   "cell_type": "code",
   "execution_count": 15,
   "id": "170fe631",
   "metadata": {},
   "outputs": [],
   "source": [
    "# Simular etiquetas (y) para el modelo de regresión logística\n",
    "# Aquí asumimos que queremos predecir si la suma de las primeras 10 columnas supera un umbral\n",
    "threshold = 5000\n",
    "data[\"target\"] = (data.iloc[:, :10].sum(axis=1) > threshold).astype(int)\n"
   ]
  },
  {
   "cell_type": "code",
   "execution_count": 16,
   "id": "a1fb06f1",
   "metadata": {},
   "outputs": [],
   "source": [
    "# Dividir el dataset en características (X) y etiquetas (y)\n",
    "X = data.drop(columns=[\"target\"])\n",
    "y = data[\"target\"]"
   ]
  },
  {
   "cell_type": "code",
   "execution_count": 17,
   "id": "8fcf6fac",
   "metadata": {},
   "outputs": [],
   "source": [
    "# Dividir el dataset en conjunto de entrenamiento y prueba\n",
    "X_train, X_test, y_train, y_test = train_test_split(X, y, test_size=0.3, random_state=42)"
   ]
  },
  {
   "cell_type": "code",
   "execution_count": 8,
   "id": "007938bf",
   "metadata": {},
   "outputs": [
    {
     "data": {
      "text/html": [
       "<style>#sk-container-id-1 {color: black;background-color: white;}#sk-container-id-1 pre{padding: 0;}#sk-container-id-1 div.sk-toggleable {background-color: white;}#sk-container-id-1 label.sk-toggleable__label {cursor: pointer;display: block;width: 100%;margin-bottom: 0;padding: 0.3em;box-sizing: border-box;text-align: center;}#sk-container-id-1 label.sk-toggleable__label-arrow:before {content: \"▸\";float: left;margin-right: 0.25em;color: #696969;}#sk-container-id-1 label.sk-toggleable__label-arrow:hover:before {color: black;}#sk-container-id-1 div.sk-estimator:hover label.sk-toggleable__label-arrow:before {color: black;}#sk-container-id-1 div.sk-toggleable__content {max-height: 0;max-width: 0;overflow: hidden;text-align: left;background-color: #f0f8ff;}#sk-container-id-1 div.sk-toggleable__content pre {margin: 0.2em;color: black;border-radius: 0.25em;background-color: #f0f8ff;}#sk-container-id-1 input.sk-toggleable__control:checked~div.sk-toggleable__content {max-height: 200px;max-width: 100%;overflow: auto;}#sk-container-id-1 input.sk-toggleable__control:checked~label.sk-toggleable__label-arrow:before {content: \"▾\";}#sk-container-id-1 div.sk-estimator input.sk-toggleable__control:checked~label.sk-toggleable__label {background-color: #d4ebff;}#sk-container-id-1 div.sk-label input.sk-toggleable__control:checked~label.sk-toggleable__label {background-color: #d4ebff;}#sk-container-id-1 input.sk-hidden--visually {border: 0;clip: rect(1px 1px 1px 1px);clip: rect(1px, 1px, 1px, 1px);height: 1px;margin: -1px;overflow: hidden;padding: 0;position: absolute;width: 1px;}#sk-container-id-1 div.sk-estimator {font-family: monospace;background-color: #f0f8ff;border: 1px dotted black;border-radius: 0.25em;box-sizing: border-box;margin-bottom: 0.5em;}#sk-container-id-1 div.sk-estimator:hover {background-color: #d4ebff;}#sk-container-id-1 div.sk-parallel-item::after {content: \"\";width: 100%;border-bottom: 1px solid gray;flex-grow: 1;}#sk-container-id-1 div.sk-label:hover label.sk-toggleable__label {background-color: #d4ebff;}#sk-container-id-1 div.sk-serial::before {content: \"\";position: absolute;border-left: 1px solid gray;box-sizing: border-box;top: 0;bottom: 0;left: 50%;z-index: 0;}#sk-container-id-1 div.sk-serial {display: flex;flex-direction: column;align-items: center;background-color: white;padding-right: 0.2em;padding-left: 0.2em;position: relative;}#sk-container-id-1 div.sk-item {position: relative;z-index: 1;}#sk-container-id-1 div.sk-parallel {display: flex;align-items: stretch;justify-content: center;background-color: white;position: relative;}#sk-container-id-1 div.sk-item::before, #sk-container-id-1 div.sk-parallel-item::before {content: \"\";position: absolute;border-left: 1px solid gray;box-sizing: border-box;top: 0;bottom: 0;left: 50%;z-index: -1;}#sk-container-id-1 div.sk-parallel-item {display: flex;flex-direction: column;z-index: 1;position: relative;background-color: white;}#sk-container-id-1 div.sk-parallel-item:first-child::after {align-self: flex-end;width: 50%;}#sk-container-id-1 div.sk-parallel-item:last-child::after {align-self: flex-start;width: 50%;}#sk-container-id-1 div.sk-parallel-item:only-child::after {width: 0;}#sk-container-id-1 div.sk-dashed-wrapped {border: 1px dashed gray;margin: 0 0.4em 0.5em 0.4em;box-sizing: border-box;padding-bottom: 0.4em;background-color: white;}#sk-container-id-1 div.sk-label label {font-family: monospace;font-weight: bold;display: inline-block;line-height: 1.2em;}#sk-container-id-1 div.sk-label-container {text-align: center;}#sk-container-id-1 div.sk-container {/* jupyter's `normalize.less` sets `[hidden] { display: none; }` but bootstrap.min.css set `[hidden] { display: none !important; }` so we also need the `!important` here to be able to override the default hidden behavior on the sphinx rendered scikit-learn.org. See: https://github.com/scikit-learn/scikit-learn/issues/21755 */display: inline-block !important;position: relative;}#sk-container-id-1 div.sk-text-repr-fallback {display: none;}</style><div id=\"sk-container-id-1\" class=\"sk-top-container\"><div class=\"sk-text-repr-fallback\"><pre>LogisticRegression(max_iter=1000, random_state=42)</pre><b>In a Jupyter environment, please rerun this cell to show the HTML representation or trust the notebook. <br />On GitHub, the HTML representation is unable to render, please try loading this page with nbviewer.org.</b></div><div class=\"sk-container\" hidden><div class=\"sk-item\"><div class=\"sk-estimator sk-toggleable\"><input class=\"sk-toggleable__control sk-hidden--visually\" id=\"sk-estimator-id-1\" type=\"checkbox\" checked><label for=\"sk-estimator-id-1\" class=\"sk-toggleable__label sk-toggleable__label-arrow\">LogisticRegression</label><div class=\"sk-toggleable__content\"><pre>LogisticRegression(max_iter=1000, random_state=42)</pre></div></div></div></div></div>"
      ],
      "text/plain": [
       "LogisticRegression(max_iter=1000, random_state=42)"
      ]
     },
     "execution_count": 8,
     "metadata": {},
     "output_type": "execute_result"
    }
   ],
   "source": [
    "# Entrenar un modelo de regresión logística\n",
    "model = LogisticRegression(max_iter=1000, random_state=42)\n",
    "model.fit(X_train, y_train)\n"
   ]
  },
  {
   "cell_type": "code",
   "execution_count": 9,
   "id": "55dbea2f",
   "metadata": {},
   "outputs": [],
   "source": [
    "# Realizar predicciones\n",
    "y_pred = model.predict(X_test)"
   ]
  },
  {
   "cell_type": "code",
   "execution_count": 10,
   "id": "b8be8a97",
   "metadata": {},
   "outputs": [
    {
     "name": "stdout",
     "output_type": "stream",
     "text": [
      "\n",
      "Reporte de clasificación:\n",
      "              precision    recall  f1-score   support\n",
      "\n",
      "           0       1.00      1.00      1.00      7514\n",
      "           1       1.00      1.00      1.00      7486\n",
      "\n",
      "    accuracy                           1.00     15000\n",
      "   macro avg       1.00      1.00      1.00     15000\n",
      "weighted avg       1.00      1.00      1.00     15000\n",
      "\n",
      "\n",
      "Precisión del modelo:\n",
      "0.9989333333333333\n"
     ]
    }
   ],
   "source": [
    "# Evaluar el modelo\n",
    "print(\"\\nReporte de clasificación:\")\n",
    "print(classification_report(y_test, y_pred))\n",
    "\n",
    "print(\"\\nPrecisión del modelo:\")\n",
    "print(accuracy_score(y_test, y_pred))"
   ]
  },
  {
   "cell_type": "code",
   "execution_count": 11,
   "id": "53e6e9c7",
   "metadata": {},
   "outputs": [
    {
     "name": "stdout",
     "output_type": "stream",
     "text": [
      "\n",
      "Modelo guardado como 'modelo_regresion_logistica.pkl'\n"
     ]
    }
   ],
   "source": [
    "\n",
    "# Guardar el modelo entrenado si es necesario\n",
    "import joblib\n",
    "joblib.dump(model, \"modelo_regresion_logistica.pkl\")\n",
    "print(\"\\nModelo guardado como 'modelo_regresion_logistica.pkl'\")"
   ]
  },
  {
   "cell_type": "code",
   "execution_count": null,
   "id": "990e9894",
   "metadata": {},
   "outputs": [],
   "source": []
  }
 ],
 "metadata": {
  "kernelspec": {
   "display_name": "Python 3 (ipykernel)",
   "language": "python",
   "name": "python3"
  },
  "language_info": {
   "codemirror_mode": {
    "name": "ipython",
    "version": 3
   },
   "file_extension": ".py",
   "mimetype": "text/x-python",
   "name": "python",
   "nbconvert_exporter": "python",
   "pygments_lexer": "ipython3",
   "version": "3.11.7"
  }
 },
 "nbformat": 4,
 "nbformat_minor": 5
}
