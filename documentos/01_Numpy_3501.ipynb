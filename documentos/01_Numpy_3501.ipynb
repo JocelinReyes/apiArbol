{
 "cells": [
  {
   "cell_type": "markdown",
   "id": "099c8704-4c14-42fc-b3ca-6443072cb05c",
   "metadata": {},
   "source": [
    "# Introduccion a Numpy"
   ]
  },
  {
   "cell_type": "markdown",
   "id": "88922cb2-e54d-46cb-8b77-58016cf519c8",
   "metadata": {},
   "source": [
    "[Numpy](https://numpy.org/doc/stable/) es una libreria para la computachion con python.\n",
    "* Proporcioa arrays N dimensionales\n",
    "* Implementa funcione matemeticas sofisticadas\n",
    "* Proporciona herramientas para integrar c/c++ y Fortan.\n",
    "* Proporciona mecanismos para facilitar la realizacion de las tareas relacionadas con algebra lineal o numeros aleatorios"
   ]
  },
  {
   "cell_type": "markdown",
   "id": "87111c17-e453-4f23-b783-026bde38a013",
   "metadata": {},
   "source": [
    "## Imports"
   ]
  },
  {
   "cell_type": "code",
   "execution_count": 1,
   "id": "b854c93e-e623-4ddc-b525-05495cc26757",
   "metadata": {
    "tags": []
   },
   "outputs": [],
   "source": [
    "import numpy as np"
   ]
  },
  {
   "cell_type": "markdown",
   "id": "e48e06b6-3c33-40e5-a4b1-cfec567e25fa",
   "metadata": {},
   "source": [
    "## Arrays\n",
    "Un **array** es una estructura de datos que consiste en una coleccion de elementos (valores o variables), cada uno identificado por al menos un idice o clave. Un array se almacena de modo que la posiscion de cada elemento se pueda calcular apartir de su tupla de indice mediante una formula matematica. El tipo mas simple de array es un array lineal tambien llamado array unidimensional."
   ]
  },
  {
   "cell_type": "markdown",
   "id": "b198bd23-6fab-4057-af78-5d47eed7743f",
   "metadata": {},
   "source": [
    "En numpy:\n",
    "* Cada dimension se denomina **axis**.\n",
    "* El numero de dimensiones se denomina **rank**.\n",
    "* La lista de dimensiones con su correspondiente longitud se denomina **shape**.\n",
    "* El numero total de elementos (multiplicacion de la longitud de las dimensiones) a esto se denomina **size**."
   ]
  },
  {
   "cell_type": "code",
   "execution_count": 2,
   "id": "58229862-8c6b-4263-98f5-a32230d432ae",
   "metadata": {
    "tags": []
   },
   "outputs": [
    {
     "data": {
      "text/plain": [
       "array([[0., 0., 0., 0.],\n",
       "       [0., 0., 0., 0.]])"
      ]
     },
     "execution_count": 2,
     "metadata": {},
     "output_type": "execute_result"
    }
   ],
   "source": [
    "#Array cuyo valores son todos 0.\n",
    "a = np.zeros((2, 4))\n",
    "a"
   ]
  },
  {
   "cell_type": "markdown",
   "id": "13769469-72b5-4206-bf2d-fd16ba35e306",
   "metadata": {},
   "source": [
    "_a_ es un array:\n",
    "* Con dos **axis**, el primero de longitud 2 y el segudo de longitud 4\n",
    "* Con un **rank** igual a 2\n",
    "* Con un **shape** igual a (2,4)\n",
    "* Con un **size** igual a 8"
   ]
  },
  {
   "cell_type": "code",
   "execution_count": 3,
   "id": "075e15df-4abc-48d1-84d3-df3a600ba5df",
   "metadata": {
    "tags": []
   },
   "outputs": [
    {
     "data": {
      "text/plain": [
       "(2, 4)"
      ]
     },
     "execution_count": 3,
     "metadata": {},
     "output_type": "execute_result"
    }
   ],
   "source": [
    "a.shape"
   ]
  },
  {
   "cell_type": "code",
   "execution_count": 4,
   "id": "6a2aac21-d6a2-4369-9b34-a756acb80ead",
   "metadata": {
    "tags": []
   },
   "outputs": [
    {
     "data": {
      "text/plain": [
       "2"
      ]
     },
     "execution_count": 4,
     "metadata": {},
     "output_type": "execute_result"
    }
   ],
   "source": [
    "a.ndim"
   ]
  },
  {
   "cell_type": "code",
   "execution_count": 5,
   "id": "3796ec30-64cc-4acb-b8f1-8e476d665c95",
   "metadata": {
    "tags": []
   },
   "outputs": [
    {
     "data": {
      "text/plain": [
       "8"
      ]
     },
     "execution_count": 5,
     "metadata": {},
     "output_type": "execute_result"
    }
   ],
   "source": [
    "a.size"
   ]
  },
  {
   "cell_type": "markdown",
   "id": "a955edb8-060d-4772-b73d-d54762453525",
   "metadata": {},
   "source": [
    "## Creacion de arrays"
   ]
  },
  {
   "cell_type": "code",
   "execution_count": 6,
   "id": "f807af15-7fbc-4a94-8e33-8ab07ba8171e",
   "metadata": {
    "tags": []
   },
   "outputs": [
    {
     "data": {
      "text/plain": [
       "array([[[0., 0., 0., 0.],\n",
       "        [0., 0., 0., 0.],\n",
       "        [0., 0., 0., 0.]],\n",
       "\n",
       "       [[0., 0., 0., 0.],\n",
       "        [0., 0., 0., 0.],\n",
       "        [0., 0., 0., 0.]]])"
      ]
     },
     "execution_count": 6,
     "metadata": {},
     "output_type": "execute_result"
    }
   ],
   "source": [
    "# Array cuyos valores son todos 0.\n",
    "np.zeros((2,3,4))"
   ]
  },
  {
   "cell_type": "code",
   "execution_count": 7,
   "id": "6d1e7a2e-0927-4635-abcd-51fe6202c463",
   "metadata": {
    "tags": []
   },
   "outputs": [
    {
     "data": {
      "text/plain": [
       "array([[[1., 1., 1., 1.],\n",
       "        [1., 1., 1., 1.],\n",
       "        [1., 1., 1., 1.]],\n",
       "\n",
       "       [[1., 1., 1., 1.],\n",
       "        [1., 1., 1., 1.],\n",
       "        [1., 1., 1., 1.]]])"
      ]
     },
     "execution_count": 7,
     "metadata": {},
     "output_type": "execute_result"
    }
   ],
   "source": [
    "# Array cuyos valores son todos 1.\n",
    "np.ones((2,3,4))"
   ]
  },
  {
   "cell_type": "code",
   "execution_count": 8,
   "id": "216384a8-bb44-4a16-8818-4b1aa89ddada",
   "metadata": {
    "tags": []
   },
   "outputs": [
    {
     "data": {
      "text/plain": [
       "array([[[8, 8, 8, 8],\n",
       "        [8, 8, 8, 8],\n",
       "        [8, 8, 8, 8]],\n",
       "\n",
       "       [[8, 8, 8, 8],\n",
       "        [8, 8, 8, 8],\n",
       "        [8, 8, 8, 8]]])"
      ]
     },
     "execution_count": 8,
     "metadata": {},
     "output_type": "execute_result"
    }
   ],
   "source": [
    "# Array cuyos valores son todos el valor indicacdo como segundo parametro de la funcion\n",
    "np.full((2,3,4), 8)"
   ]
  },
  {
   "cell_type": "code",
   "execution_count": 10,
   "id": "bbda874d-cee3-4481-bbb3-c4d8a7ca3b46",
   "metadata": {},
   "outputs": [
    {
     "data": {
      "text/plain": [
       "array([[[2.05741376e-316, 0.00000000e+000, 1.94405866e-315,\n",
       "         6.71864173e-239, 1.94958304e-320, 5.31443122e-313,\n",
       "         1.02658998e-300, 1.38258698e-316, 5.56268804e-307],\n",
       "        [2.40630685e-239, 7.21212493e-239, 5.56569958e-307,\n",
       "         2.77294679e-315, 8.78024422e-225, 0.00000000e+000,\n",
       "         7.88107873e-190, 1.99255405e-311, 1.16816378e-307],\n",
       "        [1.97510496e-277, 1.01178043e-310, 0.00000000e+000,\n",
       "         0.00000000e+000, 8.95692688e-312, 2.10966031e-321,\n",
       "         5.68711277e-219, 0.00000000e+000, 0.00000000e+000]],\n",
       "\n",
       "       [[1.02904789e-300, 1.38258698e-316, 1.02518393e-243,\n",
       "         4.58492919e-321, 0.00000000e+000, 1.50619992e-181,\n",
       "         9.06092203e-312, 2.36720880e-205, 1.54385441e-315],\n",
       "        [0.00000000e+000, 0.00000000e+000, 1.25990589e-300,\n",
       "         0.00000000e+000, 2.40625925e-239, 1.44932313e-311,\n",
       "         1.39067116e-309, 3.11957073e-287, 1.34164568e-301],\n",
       "        [1.39069241e-309, 2.96637014e-320, 5.57876682e-263,\n",
       "         8.95482225e-312, 2.10966031e-321, 1.27404628e-310,\n",
       "         0.00000000e+000, 1.25990589e-300, 0.00000000e+000]]])"
      ]
     },
     "execution_count": 10,
     "metadata": {},
     "output_type": "execute_result"
    }
   ],
   "source": [
    "# El resultado de np.empty no es predecible\n",
    "# Se inicializa con los valores del array con lo que haya en memoria en ese momento\n",
    "np.empty((2,3,9))"
   ]
  },
  {
   "cell_type": "code",
   "execution_count": 11,
   "id": "d412d3d5",
   "metadata": {},
   "outputs": [
    {
     "data": {
      "text/plain": [
       "array([[1, 2, 3],\n",
       "       [4, 5, 6]])"
      ]
     },
     "execution_count": 11,
     "metadata": {},
     "output_type": "execute_result"
    }
   ],
   "source": [
    "# Inicializar el array utilzando n array de phyton.\n",
    "b=np.array([[1,2,3],[4,5,6]])\n",
    "b"
   ]
  },
  {
   "cell_type": "code",
   "execution_count": 12,
   "id": "4fa8c4a4",
   "metadata": {},
   "outputs": [
    {
     "data": {
      "text/plain": [
       "(2, 3)"
      ]
     },
     "execution_count": 12,
     "metadata": {},
     "output_type": "execute_result"
    }
   ],
   "source": [
    "b.shape"
   ]
  },
  {
   "cell_type": "code",
   "execution_count": 13,
   "id": "de4c5cef",
   "metadata": {},
   "outputs": [
    {
     "name": "stdout",
     "output_type": "stream",
     "text": [
      "[0.         0.66666667 1.33333333 2.         2.66666667 3.33333333\n",
      " 4.         4.66666667 5.33333333 6.        ]\n"
     ]
    }
   ],
   "source": [
    "# Crear un array utilzando una funcion basada en rangos\n",
    "# (minimo, maximo, numero de elementos del array)\n",
    "print(np.linspace(0, 6, 10))"
   ]
  },
  {
   "cell_type": "code",
   "execution_count": 16,
   "id": "2fa37631",
   "metadata": {},
   "outputs": [
    {
     "data": {
      "text/plain": [
       "array([[[0.14428878, 0.96258651, 0.44252202, 0.57310415],\n",
       "        [0.63406434, 0.34363753, 0.50778786, 0.83824436],\n",
       "        [0.42022847, 0.01525354, 0.7345651 , 0.81297786]],\n",
       "\n",
       "       [[0.46879863, 0.17077776, 0.11423014, 0.40729347],\n",
       "        [0.76351285, 0.80642922, 0.17025746, 0.40662973],\n",
       "        [0.72653753, 0.74023007, 0.04646582, 0.92174241]]])"
      ]
     },
     "execution_count": 16,
     "metadata": {},
     "output_type": "execute_result"
    }
   ],
   "source": [
    "# Inicializar el array co valores aleatorios\n",
    "np.random.rand(2, 3, 4)"
   ]
  },
  {
   "cell_type": "code",
   "execution_count": 17,
   "id": "a33c2f94",
   "metadata": {},
   "outputs": [
    {
     "data": {
      "text/plain": [
       "array([[ 1.68871463,  0.30037552,  0.91107591,  0.10535159],\n",
       "       [-0.27315968,  2.04626207,  0.13162436,  0.89005702]])"
      ]
     },
     "execution_count": 17,
     "metadata": {},
     "output_type": "execute_result"
    }
   ],
   "source": [
    "# Iniciar array con valores aleatorios conforme a una distribucion normal \n",
    "np.random.randn(2, 4)"
   ]
  },
  {
   "cell_type": "code",
   "execution_count": 19,
   "id": "be1cad4d",
   "metadata": {},
   "outputs": [
    {
     "data": {
      "image/png": "[encoded data removed]",
      "text/plain": [
       "<Figure size 640x480 with 1 Axes>"
      ]
     },
     "metadata": {},
     "output_type": "display_data"
    }
   ],
   "source": [
    "%matplotlib inline\n",
    "import matplotlib.pyplot as plt\n",
    "\n",
    "c= np.random.randn(10000)\n",
    "plt.hist(c,bins = 200)\n",
    "plt.show()"
   ]
  },
  {
   "cell_type": "code",
   "execution_count": 20,
   "id": "f445f138",
   "metadata": {},
   "outputs": [
    {
     "data": {
      "text/plain": [
       "array([[ 0.,  2.,  4.,  6.,  8.],\n",
       "       [ 1.,  3.,  5.,  7.,  9.],\n",
       "       [ 2.,  4.,  6.,  8., 10.]])"
      ]
     },
     "execution_count": 20,
     "metadata": {},
     "output_type": "execute_result"
    }
   ],
   "source": [
    "# Incializar un array utilizando una funcion personalizada\n",
    "\n",
    "def func(x,y):\n",
    "    return x + 2 * y\n",
    "\n",
    "np.fromfunction(func,(3,5))"
   ]
  },
  {
   "cell_type": "markdown",
   "id": "ab397063",
   "metadata": {},
   "source": [
    "## Acceso a los elemetos de un array\n",
    "### Array Unidemensional "
   ]
  },
  {
   "cell_type": "code",
   "execution_count": 21,
   "id": "fcd3505b",
   "metadata": {},
   "outputs": [
    {
     "name": "stdout",
     "output_type": "stream",
     "text": [
      "Shape:  (6,)\n",
      " Array_uni:  [ 1  3  5  7  9 11]\n"
     ]
    }
   ],
   "source": [
    "# Acceder a los elementos de un array.\n",
    "array_uni = np.array([1, 3, 5, 7, 9, 11])\n",
    "\n",
    "print(\"Shape: \", array_uni.shape)\n",
    "print(\" Array_uni: \", array_uni)"
   ]
  },
  {
   "cell_type": "code",
   "execution_count": 22,
   "id": "99402a3f",
   "metadata": {},
   "outputs": [
    {
     "data": {
      "text/plain": [
       "9"
      ]
     },
     "execution_count": 22,
     "metadata": {},
     "output_type": "execute_result"
    }
   ],
   "source": [
    "# Accediendo al quinto elemeto del array.\n",
    "array_uni[4]"
   ]
  },
  {
   "cell_type": "code",
   "execution_count": 24,
   "id": "06b2417a",
   "metadata": {},
   "outputs": [
    {
     "data": {
      "text/plain": [
       "array([5, 7])"
      ]
     },
     "execution_count": 24,
     "metadata": {},
     "output_type": "execute_result"
    }
   ],
   "source": [
    "# Acceder al tercer y cuarto elemeto del array\n",
    "array_uni[2:4]"
   ]
  },
  {
   "cell_type": "markdown",
   "id": "45fb4438",
   "metadata": {},
   "source": [
    "### Array Multidimensional"
   ]
  },
  {
   "cell_type": "code",
   "execution_count": 25,
   "id": "73a2036e",
   "metadata": {},
   "outputs": [
    {
     "name": "stdout",
     "output_type": "stream",
     "text": [
      "Shape:  (2, 4)\n",
      "Array_multi: \n",
      " [[1 2 3 4]\n",
      " [5 6 7 8]]\n"
     ]
    }
   ],
   "source": [
    "# Crear un array Multidimensional.\n",
    "array_multi = np.array([[1,2,3,4],[5,6,7,8]])\n",
    "print(\"Shape: \", array_multi.shape)\n",
    "print(\"Array_multi: \\n\", array_multi)"
   ]
  },
  {
   "cell_type": "code",
   "execution_count": 26,
   "id": "46c635e7",
   "metadata": {},
   "outputs": [
    {
     "data": {
      "text/plain": [
       "4"
      ]
     },
     "execution_count": 26,
     "metadata": {},
     "output_type": "execute_result"
    }
   ],
   "source": [
    "# Acceder del cuarto elemento dl array.\n",
    "array_multi[0,3]"
   ]
  },
  {
   "cell_type": "code",
   "execution_count": 27,
   "id": "55761097",
   "metadata": {},
   "outputs": [
    {
     "data": {
      "text/plain": [
       "array([5, 6, 7, 8])"
      ]
     },
     "execution_count": 27,
     "metadata": {},
     "output_type": "execute_result"
    }
   ],
   "source": [
    "# Acceder a la segunda fila del array\n",
    "array_multi[1, :]"
   ]
  },
  {
   "cell_type": "code",
   "execution_count": 28,
   "id": "bff8816e",
   "metadata": {},
   "outputs": [
    {
     "data": {
      "text/plain": [
       "array([3, 7])"
      ]
     },
     "execution_count": 28,
     "metadata": {},
     "output_type": "execute_result"
    }
   ],
   "source": [
    "# Acceder al primer elemento de las dos primeras filas del array.\n",
    "array_multi[0:2, 2]"
   ]
  },
  {
   "cell_type": "markdown",
   "id": "91e78b4a",
   "metadata": {},
   "source": [
    "## Modificacion de un array"
   ]
  },
  {
   "cell_type": "code",
   "execution_count": 29,
   "id": "ccd57011",
   "metadata": {},
   "outputs": [
    {
     "name": "stdout",
     "output_type": "stream",
     "text": [
      "Shape:  (28,)\n",
      "Array: \n",
      " [ 0  1  2  3  4  5  6  7  8  9 10 11 12 13 14 15 16 17 18 19 20 21 22 23\n",
      " 24 25 26 27]\n"
     ]
    }
   ],
   "source": [
    "# Crear un array unidimensional e inicializarlo con un rango de elemntos \n",
    "# del 0 al 27\n",
    "\n",
    "array1 = np.arange(28)\n",
    "print(\"Shape: \", array1.shape)\n",
    "print(\"Array: \\n\", array1)"
   ]
  },
  {
   "cell_type": "code",
   "execution_count": 30,
   "id": "065bd4d0",
   "metadata": {},
   "outputs": [
    {
     "name": "stdout",
     "output_type": "stream",
     "text": [
      "Shape:  (7, 4)\n",
      "Array: \n",
      " [[ 0  1  2  3]\n",
      " [ 4  5  6  7]\n",
      " [ 8  9 10 11]\n",
      " [12 13 14 15]\n",
      " [16 17 18 19]\n",
      " [20 21 22 23]\n",
      " [24 25 26 27]]\n"
     ]
    }
   ],
   "source": [
    "# Cambiar las dimensiones del array y sus longitudes\n",
    "array1.shape = (7, 4)\n",
    "print(\"Shape: \", array1.shape)\n",
    "print(\"Array: \\n\", array1)"
   ]
  },
  {
   "cell_type": "code",
   "execution_count": 31,
   "id": "9fee51a0",
   "metadata": {},
   "outputs": [
    {
     "name": "stdout",
     "output_type": "stream",
     "text": [
      "Shape:  (4, 7)\n",
      "Array: \n",
      " [[ 0  1  2  3  4  5  6]\n",
      " [ 7  8  9 10 11 12 13]\n",
      " [14 15 16 17 18 19 20]\n",
      " [21 22 23 24 25 26 27]]\n"
     ]
    }
   ],
   "source": [
    "# El ejemplo anterior devuelve un nuevo array que apunta los mismos datos\n",
    "# Nota: modificaciones en el array, modificaran el otro array.\n",
    "array2 = array1.reshape(4,7)\n",
    "print(\"Shape: \", array2.shape)\n",
    "print(\"Array: \\n\", array2)"
   ]
  },
  {
   "cell_type": "code",
   "execution_count": 32,
   "id": "ae92d31d",
   "metadata": {},
   "outputs": [
    {
     "name": "stdout",
     "output_type": "stream",
     "text": [
      "Shape:  (4, 7)\n",
      "Array: \n",
      " [[ 0  1  2  3  4  5  6]\n",
      " [ 7  8  9 30 11 12 13]\n",
      " [14 15 16 17 18 19 20]\n",
      " [21 22 23 24 25 26 27]]\n"
     ]
    }
   ],
   "source": [
    "# Modificacion de nuevo array devuelto\n",
    "array2[1, 3]=30\n",
    "print(\"Shape: \", array2.shape)\n",
    "print(\"Array: \\n\", array2)"
   ]
  },
  {
   "cell_type": "code",
   "execution_count": 33,
   "id": "ee89751b",
   "metadata": {},
   "outputs": [
    {
     "name": "stdout",
     "output_type": "stream",
     "text": [
      "Array: \n",
      " [[ 0  1  2  3]\n",
      " [ 4  5  6  7]\n",
      " [ 8  9 30 11]\n",
      " [12 13 14 15]\n",
      " [16 17 18 19]\n",
      " [20 21 22 23]\n",
      " [24 25 26 27]]\n"
     ]
    }
   ],
   "source": [
    "print(\"Array: \\n\", array1)"
   ]
  },
  {
   "cell_type": "code",
   "execution_count": 34,
   "id": "2fca0e3a",
   "metadata": {},
   "outputs": [
    {
     "name": "stdout",
     "output_type": "stream",
     "text": [
      "Array1:  [ 0  1  2  3  4  5  6  7  8  9 30 11 12 13 14 15 16 17 18 19 20 21 22 23\n",
      " 24 25 26 27]\n"
     ]
    }
   ],
   "source": [
    "# Devolver el array a su estdo original\n",
    "print(\"Array1: \", array1.ravel())"
   ]
  },
  {
   "cell_type": "markdown",
   "id": "10cd1b86",
   "metadata": {},
   "source": [
    "## Operaciones Aritmeticas con Arrays"
   ]
  },
  {
   "cell_type": "code",
   "execution_count": 36,
   "id": "5288b0e2",
   "metadata": {},
   "outputs": [
    {
     "name": "stdout",
     "output_type": "stream",
     "text": [
      "Array 1:  [ 2  4  6  8 10 12 14 16]\n",
      "Array 2:  [0 1 2 3 4 5 6 7]\n"
     ]
    }
   ],
   "source": [
    "array1 = np.arange(2, 18, 2)\n",
    "array2 = np.arange(8)\n",
    "print(\"Array 1: \", array1)\n",
    "print(\"Array 2: \", array2)"
   ]
  },
  {
   "cell_type": "code",
   "execution_count": 37,
   "id": "e5cc53aa",
   "metadata": {},
   "outputs": [
    {
     "name": "stdout",
     "output_type": "stream",
     "text": [
      "[ 2  5  8 11 14 17 20 23]\n"
     ]
    }
   ],
   "source": [
    "# Suma\n",
    "print(array1 + array2)"
   ]
  },
  {
   "cell_type": "code",
   "execution_count": 38,
   "id": "f56858cd",
   "metadata": {},
   "outputs": [
    {
     "name": "stdout",
     "output_type": "stream",
     "text": [
      "[2 3 4 5 6 7 8 9]\n"
     ]
    }
   ],
   "source": [
    "# Resta\n",
    "print(array1 - array2)"
   ]
  },
  {
   "cell_type": "code",
   "execution_count": 39,
   "id": "2239c4b6",
   "metadata": {},
   "outputs": [
    {
     "name": "stdout",
     "output_type": "stream",
     "text": [
      "[  0   4  12  24  40  60  84 112]\n"
     ]
    }
   ],
   "source": [
    "# Multiplicacion\n",
    "# Nota: No es una multiplicacion de matrices\n",
    "print(array1 * array2)"
   ]
  },
  {
   "cell_type": "markdown",
   "id": "3e1716f0",
   "metadata": {},
   "source": [
    "## Broadcasting\n",
    "Si se aplican operaciones aritmeticas sobre arrays que no tienen la misma forma (shape), Numpy aplica una propiedad que se llama Broadcasting"
   ]
  },
  {
   "cell_type": "code",
   "execution_count": 40,
   "id": "d05d0e96",
   "metadata": {},
   "outputs": [
    {
     "name": "stdout",
     "output_type": "stream",
     "text": [
      "Shape:  (5,)\n",
      "Array 1: \n",
      " [0 1 2 3 4]\n",
      "\n",
      "\n",
      "Shape:  (1,)\n",
      "Array 2: \n",
      " [3]\n"
     ]
    }
   ],
   "source": [
    "array1 = np.arange(5)\n",
    "array2 = np.array([3])\n",
    "print(\"Shape: \", array1.shape)\n",
    "print(\"Array 1: \\n\", array1)\n",
    "print(\"\\n\")\n",
    "print(\"Shape: \", array2.shape)\n",
    "print(\"Array 2: \\n\", array2)"
   ]
  },
  {
   "cell_type": "code",
   "execution_count": 42,
   "id": "5298004c",
   "metadata": {},
   "outputs": [
    {
     "data": {
      "text/plain": [
       "array([3, 4, 5, 6, 7])"
      ]
     },
     "execution_count": 42,
     "metadata": {},
     "output_type": "execute_result"
    }
   ],
   "source": [
    "# Suma de ambos arrays\n",
    "array1 + array2"
   ]
  },
  {
   "cell_type": "code",
   "execution_count": 43,
   "id": "9e8020c1",
   "metadata": {},
   "outputs": [
    {
     "data": {
      "text/plain": [
       "array([ 0,  3,  6,  9, 12])"
      ]
     },
     "execution_count": 43,
     "metadata": {},
     "output_type": "execute_result"
    }
   ],
   "source": [
    "# Multiplicacion \n",
    "array1 * array2"
   ]
  },
  {
   "cell_type": "markdown",
   "id": "cafe4cbb",
   "metadata": {},
   "source": [
    "## Funciones estadisticas sobre Arrays"
   ]
  },
  {
   "cell_type": "code",
   "execution_count": 45,
   "id": "b0ea549b",
   "metadata": {},
   "outputs": [
    {
     "name": "stdout",
     "output_type": "stream",
     "text": [
      "Array: \n",
      " [ 1  3  5  7  9 11 13 15 17 19]\n"
     ]
    }
   ],
   "source": [
    "# Creacion de un array unidimensional\n",
    "array1 = np.arange (1,20,2)\n",
    "print(\"Array: \\n\", array1)"
   ]
  },
  {
   "cell_type": "code",
   "execution_count": 46,
   "id": "06b4fc90",
   "metadata": {},
   "outputs": [
    {
     "data": {
      "text/plain": [
       "10.0"
      ]
     },
     "execution_count": 46,
     "metadata": {},
     "output_type": "execute_result"
    }
   ],
   "source": [
    "# Media de los elementos del array\n",
    "array1.mean()"
   ]
  },
  {
   "cell_type": "code",
   "execution_count": 47,
   "id": "3ea9829e",
   "metadata": {},
   "outputs": [
    {
     "data": {
      "text/plain": [
       "100"
      ]
     },
     "execution_count": 47,
     "metadata": {},
     "output_type": "execute_result"
    }
   ],
   "source": [
    "# Suma de los elemntos del array\n",
    "array1.sum()"
   ]
  },
  {
   "cell_type": "markdown",
   "id": "d1643c35",
   "metadata": {},
   "source": [
    "### Funciones universales proporionadas por numpy : **unfunc**"
   ]
  },
  {
   "cell_type": "code",
   "execution_count": 48,
   "id": "26f7f7f3",
   "metadata": {},
   "outputs": [
    {
     "data": {
      "text/plain": [
       "array([  1,   9,  25,  49,  81, 121, 169, 225, 289, 361])"
      ]
     },
     "execution_count": 48,
     "metadata": {},
     "output_type": "execute_result"
    }
   ],
   "source": [
    "# Cuadrado de los elementos del array\n",
    "np.square(array1)"
   ]
  },
  {
   "cell_type": "code",
   "execution_count": 49,
   "id": "86908990",
   "metadata": {},
   "outputs": [
    {
     "data": {
      "text/plain": [
       "array([1.        , 1.73205081, 2.23606798, 2.64575131, 3.        ,\n",
       "       3.31662479, 3.60555128, 3.87298335, 4.12310563, 4.35889894])"
      ]
     },
     "execution_count": 49,
     "metadata": {},
     "output_type": "execute_result"
    }
   ],
   "source": [
    "# Raiz cuadrada de los elementos del array\n",
    "np.sqrt(array1)"
   ]
  },
  {
   "cell_type": "code",
   "execution_count": 50,
   "id": "7eb5287d",
   "metadata": {},
   "outputs": [
    {
     "data": {
      "text/plain": [
       "array([2.71828183e+00, 2.00855369e+01, 1.48413159e+02, 1.09663316e+03,\n",
       "       8.10308393e+03, 5.98741417e+04, 4.42413392e+05, 3.26901737e+06,\n",
       "       2.41549528e+07, 1.78482301e+08])"
      ]
     },
     "execution_count": 50,
     "metadata": {},
     "output_type": "execute_result"
    }
   ],
   "source": [
    "# Exponencial de los elementos del array\n",
    "np.exp(array1)"
   ]
  },
  {
   "cell_type": "code",
   "execution_count": 51,
   "id": "29632703",
   "metadata": {},
   "outputs": [
    {
     "data": {
      "text/plain": [
       "array([0.        , 1.09861229, 1.60943791, 1.94591015, 2.19722458,\n",
       "       2.39789527, 2.56494936, 2.7080502 , 2.83321334, 2.94443898])"
      ]
     },
     "execution_count": 51,
     "metadata": {},
     "output_type": "execute_result"
    }
   ],
   "source": [
    "# Logaritmo de los elementos del array\n",
    "np.log(array1)"
   ]
  },
  {
   "cell_type": "code",
   "execution_count": null,
   "id": "c84ef8e2",
   "metadata": {},
   "outputs": [],
   "source": []
  }
 ],
 "metadata": {
  "kernelspec": {
   "display_name": "Python 3 (ipykernel)",
   "language": "python",
   "name": "python3"
  },
  "language_info": {
   "codemirror_mode": {
    "name": "ipython",
    "version": 3
   },
   "file_extension": ".py",
   "mimetype": "text/x-python",
   "name": "python",
   "nbconvert_exporter": "python",
   "pygments_lexer": "ipython3",
   "version": "3.11.7"
  }
 },
 "nbformat": 4,
 "nbformat_minor": 5
}
